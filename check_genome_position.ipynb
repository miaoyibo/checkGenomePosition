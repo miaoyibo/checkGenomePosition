{
 "cells": [
  {
   "cell_type": "code",
   "execution_count": 1,
   "metadata": {},
   "outputs": [],
   "source": [
    "import requests\n",
    "import json\n",
    "import pandas as pd"
   ]
  },
  {
   "cell_type": "code",
   "execution_count": 2,
   "metadata": {},
   "outputs": [],
   "source": [
    "def getSequence(genome,chrom,start,end):\n",
    "    #url='https://api.genome.ucsc.edu/getData/sequence?genome='+genome+';chrom='+chrom+';start='+str(start)+';end='+str(end)\n",
    "    url='https://genome-asia.ucsc.edu/cgi-bin/hubApi/getData/sequence?genome='+genome+';chrom='+chrom+';start='+str(start)+';end='+str(end)\n",
    "    response = requests.get(url)\n",
    "    jsonstr = json.loads(response.text)\n",
    "    result=jsonstr.get('dna')\n",
    "    return result"
   ]
  },
  {
   "cell_type": "code",
   "execution_count": null,
   "metadata": {},
   "outputs": [
    {
     "name": "stderr",
     "output_type": "stream",
     "text": [
      "d:\\Anaconda3\\lib\\site-packages\\IPython\\core\\interactiveshell.py:2785: DtypeWarning: Columns (9,36) have mixed types. Specify dtype option on import or set low_memory=False.\n",
      "  interactivity=interactivity, compiler=compiler, result=result)\n"
     ]
    }
   ],
   "source": [
    "f = open('D:\\\\sunburst_mutations.txt',encoding='utf-8')\n",
    "sunburst_id=[]\n",
    "sunburst_ref=[]\n",
    "hg19_ref=[]\n",
    "match_ref=[]\n",
    "df=pd.read_csv(f,sep='\\t',encoding='utf-8',converters={'start':str,'stop':str})\n",
    "a=0\n",
    "try:   \n",
    "    for row in df.itertuples():\n",
    "         id=getattr(row, 'id')\n",
    "         start=getattr(row, 'start')\n",
    "         stop=getattr(row, 'stop')\n",
    "         ref=getattr(row, 'ref')\n",
    "         chr=getattr(row, 'chr')\n",
    "         sunburst_id.append(id)\n",
    "         sunburst_ref.append(ref)\n",
    "         match='no'\n",
    "         if start:\n",
    "                start=int(start)-1\n",
    "                hg19=getSequence('hg19',chr,start,stop)\n",
    "                if ref and hg19 and ref.lower()==hg19.lower():\n",
    "                    match='yes'\n",
    "                hg19_ref.append(hg19)\n",
    "         else:\n",
    "                hg19_ref.append('')\n",
    "         match_ref.append(match)\n",
    "finally:\n",
    "    f.close()\n",
    "df1=pd.DataFrame()\n",
    "df1['sunburst_id']=sunburst_id\n",
    "df1['sunburst_ref']=sunburst_ref\n",
    "df1['hg19_ref']=hg19_ref\n",
    "df1['match']=match_ref\n",
    "df1.to_csv('d:\\\\sunburst_mutations_match19.txt',sep='\\t')"
   ]
  },
  {
   "cell_type": "code",
   "execution_count": null,
   "metadata": {},
   "outputs": [],
   "source": []
  }
 ],
 "metadata": {
  "kernelspec": {
   "display_name": "Python 3",
   "language": "python",
   "name": "python3"
  },
  "language_info": {
   "codemirror_mode": {
    "name": "ipython",
    "version": 3
   },
   "file_extension": ".py",
   "mimetype": "text/x-python",
   "name": "python",
   "nbconvert_exporter": "python",
   "pygments_lexer": "ipython3",
   "version": "3.7.0"
  }
 },
 "nbformat": 4,
 "nbformat_minor": 2
}
